{
 "cells": [
  {
   "cell_type": "code",
   "execution_count": 76,
   "metadata": {
    "collapsed": false
   },
   "outputs": [],
   "source": [
    "import pandas as pd\n",
    "import sklearn\n",
    "import matplotlib.pyplot as plt\n",
    "\n",
    "%matplotlib inline"
   ]
  },
  {
   "cell_type": "code",
   "execution_count": 43,
   "metadata": {
    "collapsed": false
   },
   "outputs": [],
   "source": [
    "si = pandas.read_csv(\"Supplementary_information_H7N9_linelist.csv\")"
   ]
  },
  {
   "cell_type": "code",
   "execution_count": 60,
   "metadata": {
    "collapsed": true
   },
   "outputs": [
    {
     "ename": "ValueError",
     "evalue": "labels ['notes'] not contained in axis",
     "output_type": "error",
     "traceback": [
      "\u001b[1;31m---------------------------------------------------------------------------\u001b[0m",
      "\u001b[1;31mValueError\u001b[0m                                Traceback (most recent call last)",
      "\u001b[1;32m<ipython-input-60-b89aae56f656>\u001b[0m in \u001b[0;36m<module>\u001b[1;34m()\u001b[0m\n\u001b[1;32m----> 1\u001b[1;33m \u001b[0msi\u001b[0m \u001b[1;33m=\u001b[0m \u001b[0msi\u001b[0m\u001b[1;33m.\u001b[0m\u001b[0mdrop\u001b[0m\u001b[1;33m(\u001b[0m\u001b[1;34m\"notes\"\u001b[0m\u001b[1;33m,\u001b[0m\u001b[1;36m1\u001b[0m\u001b[1;33m)\u001b[0m\u001b[1;33m\u001b[0m\u001b[0m\n\u001b[0m\u001b[0;32m      2\u001b[0m \u001b[0msi\u001b[0m\u001b[1;33m.\u001b[0m\u001b[0mhead\u001b[0m\u001b[1;33m(\u001b[0m\u001b[1;33m)\u001b[0m\u001b[1;33m\u001b[0m\u001b[0m\n",
      "\u001b[1;32m/home/cire/anaconda2/lib/python2.7/site-packages/pandas/core/generic.pyc\u001b[0m in \u001b[0;36mdrop\u001b[1;34m(self, labels, axis, level, inplace, errors)\u001b[0m\n\u001b[0;32m   1875\u001b[0m                 \u001b[0mnew_axis\u001b[0m \u001b[1;33m=\u001b[0m \u001b[0maxis\u001b[0m\u001b[1;33m.\u001b[0m\u001b[0mdrop\u001b[0m\u001b[1;33m(\u001b[0m\u001b[0mlabels\u001b[0m\u001b[1;33m,\u001b[0m \u001b[0mlevel\u001b[0m\u001b[1;33m=\u001b[0m\u001b[0mlevel\u001b[0m\u001b[1;33m,\u001b[0m \u001b[0merrors\u001b[0m\u001b[1;33m=\u001b[0m\u001b[0merrors\u001b[0m\u001b[1;33m)\u001b[0m\u001b[1;33m\u001b[0m\u001b[0m\n\u001b[0;32m   1876\u001b[0m             \u001b[1;32melse\u001b[0m\u001b[1;33m:\u001b[0m\u001b[1;33m\u001b[0m\u001b[0m\n\u001b[1;32m-> 1877\u001b[1;33m                 \u001b[0mnew_axis\u001b[0m \u001b[1;33m=\u001b[0m \u001b[0maxis\u001b[0m\u001b[1;33m.\u001b[0m\u001b[0mdrop\u001b[0m\u001b[1;33m(\u001b[0m\u001b[0mlabels\u001b[0m\u001b[1;33m,\u001b[0m \u001b[0merrors\u001b[0m\u001b[1;33m=\u001b[0m\u001b[0merrors\u001b[0m\u001b[1;33m)\u001b[0m\u001b[1;33m\u001b[0m\u001b[0m\n\u001b[0m\u001b[0;32m   1878\u001b[0m             \u001b[0mdropped\u001b[0m \u001b[1;33m=\u001b[0m \u001b[0mself\u001b[0m\u001b[1;33m.\u001b[0m\u001b[0mreindex\u001b[0m\u001b[1;33m(\u001b[0m\u001b[1;33m**\u001b[0m\u001b[1;33m{\u001b[0m\u001b[0maxis_name\u001b[0m\u001b[1;33m:\u001b[0m \u001b[0mnew_axis\u001b[0m\u001b[1;33m}\u001b[0m\u001b[1;33m)\u001b[0m\u001b[1;33m\u001b[0m\u001b[0m\n\u001b[0;32m   1879\u001b[0m             \u001b[1;32mtry\u001b[0m\u001b[1;33m:\u001b[0m\u001b[1;33m\u001b[0m\u001b[0m\n",
      "\u001b[1;32m/home/cire/anaconda2/lib/python2.7/site-packages/pandas/indexes/base.pyc\u001b[0m in \u001b[0;36mdrop\u001b[1;34m(self, labels, errors)\u001b[0m\n\u001b[0;32m   3049\u001b[0m             \u001b[1;32mif\u001b[0m \u001b[0merrors\u001b[0m \u001b[1;33m!=\u001b[0m \u001b[1;34m'ignore'\u001b[0m\u001b[1;33m:\u001b[0m\u001b[1;33m\u001b[0m\u001b[0m\n\u001b[0;32m   3050\u001b[0m                 raise ValueError('labels %s not contained in axis' %\n\u001b[1;32m-> 3051\u001b[1;33m                                  labels[mask])\n\u001b[0m\u001b[0;32m   3052\u001b[0m             \u001b[0mindexer\u001b[0m \u001b[1;33m=\u001b[0m \u001b[0mindexer\u001b[0m\u001b[1;33m[\u001b[0m\u001b[1;33m~\u001b[0m\u001b[0mmask\u001b[0m\u001b[1;33m]\u001b[0m\u001b[1;33m\u001b[0m\u001b[0m\n\u001b[0;32m   3053\u001b[0m         \u001b[1;32mreturn\u001b[0m \u001b[0mself\u001b[0m\u001b[1;33m.\u001b[0m\u001b[0mdelete\u001b[0m\u001b[1;33m(\u001b[0m\u001b[0mindexer\u001b[0m\u001b[1;33m)\u001b[0m\u001b[1;33m\u001b[0m\u001b[0m\n",
      "\u001b[1;31mValueError\u001b[0m: labels ['notes'] not contained in axis"
     ]
    }
   ],
   "source": [
    "si = si.drop(\"notes\",1)"
   ]
  },
  {
   "cell_type": "code",
   "execution_count": 61,
   "metadata": {
    "collapsed": false
   },
   "outputs": [
    {
     "data": {
      "text/html": [
       "<div>\n",
       "<table border=\"1\" class=\"dataframe\">\n",
       "  <thead>\n",
       "    <tr style=\"text-align: right;\">\n",
       "      <th></th>\n",
       "      <th>case.ID</th>\n",
       "      <th>age</th>\n",
       "      <th>gender</th>\n",
       "      <th>province</th>\n",
       "      <th>district</th>\n",
       "      <th>city</th>\n",
       "      <th>date_of_onset</th>\n",
       "      <th>date_of_report</th>\n",
       "      <th>date_of_provincial_confirmation</th>\n",
       "      <th>date_of_china_CDC_confirmation</th>\n",
       "      <th>date_of_notification_to_WHO</th>\n",
       "      <th>date_of_hospitalization</th>\n",
       "      <th>outcome</th>\n",
       "      <th>date_of_death</th>\n",
       "      <th>date_of_discharge</th>\n",
       "      <th>possible_source_of_exposure</th>\n",
       "      <th>number_contacts_investigated</th>\n",
       "      <th>severity</th>\n",
       "    </tr>\n",
       "  </thead>\n",
       "  <tbody>\n",
       "    <tr>\n",
       "      <th>0</th>\n",
       "      <td>case_1</td>\n",
       "      <td>87</td>\n",
       "      <td>m</td>\n",
       "      <td>Shanghai</td>\n",
       "      <td>NaN</td>\n",
       "      <td>Shanghai</td>\n",
       "      <td>19-Feb-2013</td>\n",
       "      <td>31-Mar-2013</td>\n",
       "      <td>NaN</td>\n",
       "      <td>30-Mar-2013</td>\n",
       "      <td>31-Mar-2013</td>\n",
       "      <td>NaN</td>\n",
       "      <td>death</td>\n",
       "      <td>04-Mar-2013</td>\n",
       "      <td>NaN</td>\n",
       "      <td>NaN</td>\n",
       "      <td>NaN</td>\n",
       "      <td>critical</td>\n",
       "    </tr>\n",
       "    <tr>\n",
       "      <th>1</th>\n",
       "      <td>case_2</td>\n",
       "      <td>27</td>\n",
       "      <td>m</td>\n",
       "      <td>Shanghai</td>\n",
       "      <td>Minhang</td>\n",
       "      <td>Shanghai</td>\n",
       "      <td>27-Feb-2013</td>\n",
       "      <td>31-Mar-2013</td>\n",
       "      <td>NaN</td>\n",
       "      <td>30-Mar-2013</td>\n",
       "      <td>31-Mar-2013</td>\n",
       "      <td>03-Mar-2013</td>\n",
       "      <td>death</td>\n",
       "      <td>10-Mar-2013</td>\n",
       "      <td>NaN</td>\n",
       "      <td>pigs?</td>\n",
       "      <td>NaN</td>\n",
       "      <td>critical</td>\n",
       "    </tr>\n",
       "    <tr>\n",
       "      <th>2</th>\n",
       "      <td>case_3</td>\n",
       "      <td>35</td>\n",
       "      <td>f</td>\n",
       "      <td>Anhui</td>\n",
       "      <td>NaN</td>\n",
       "      <td>Chuzhou</td>\n",
       "      <td>09-Mar-2013</td>\n",
       "      <td>31-Mar-2013</td>\n",
       "      <td>NaN</td>\n",
       "      <td>30-Mar-2013</td>\n",
       "      <td>31-Mar-2013</td>\n",
       "      <td>19-Mar-2013</td>\n",
       "      <td>death</td>\n",
       "      <td>09-Apr-2013</td>\n",
       "      <td>NaN</td>\n",
       "      <td>poultry</td>\n",
       "      <td>NaN</td>\n",
       "      <td>critical</td>\n",
       "    </tr>\n",
       "    <tr>\n",
       "      <th>3</th>\n",
       "      <td>case_4</td>\n",
       "      <td>45</td>\n",
       "      <td>f</td>\n",
       "      <td>Jiangsu</td>\n",
       "      <td>Jiangning</td>\n",
       "      <td>Nanjing</td>\n",
       "      <td>19-Mar-2013</td>\n",
       "      <td>02-Apr-2013</td>\n",
       "      <td>30-Mar-2013</td>\n",
       "      <td>02-Apr-2013</td>\n",
       "      <td>03-Apr-2013</td>\n",
       "      <td>27-Mar-2013</td>\n",
       "      <td>NaN</td>\n",
       "      <td>NaN</td>\n",
       "      <td>NaN</td>\n",
       "      <td>poultry</td>\n",
       "      <td>49.0</td>\n",
       "      <td>critical</td>\n",
       "    </tr>\n",
       "    <tr>\n",
       "      <th>4</th>\n",
       "      <td>case_5</td>\n",
       "      <td>48</td>\n",
       "      <td>f</td>\n",
       "      <td>Jiangsu</td>\n",
       "      <td>NaN</td>\n",
       "      <td>Suquian Shuyang</td>\n",
       "      <td>19-Mar-2013</td>\n",
       "      <td>02-Apr-2013</td>\n",
       "      <td>30-Mar-2013</td>\n",
       "      <td>02-Apr-2013</td>\n",
       "      <td>03-Apr-2013</td>\n",
       "      <td>30-Mar-2013</td>\n",
       "      <td>cleared</td>\n",
       "      <td>NaN</td>\n",
       "      <td>15-May-2013</td>\n",
       "      <td>NaN</td>\n",
       "      <td>60.0</td>\n",
       "      <td>critical</td>\n",
       "    </tr>\n",
       "  </tbody>\n",
       "</table>\n",
       "</div>"
      ],
      "text/plain": [
       "  case.ID age gender  province   district             city date_of_onset  \\\n",
       "0  case_1  87      m  Shanghai        NaN         Shanghai   19-Feb-2013   \n",
       "1  case_2  27      m  Shanghai    Minhang         Shanghai   27-Feb-2013   \n",
       "2  case_3  35      f     Anhui        NaN         Chuzhou    09-Mar-2013   \n",
       "3  case_4  45      f   Jiangsu  Jiangning          Nanjing   19-Mar-2013   \n",
       "4  case_5  48      f   Jiangsu        NaN  Suquian Shuyang   19-Mar-2013   \n",
       "\n",
       "  date_of_report date_of_provincial_confirmation  \\\n",
       "0    31-Mar-2013                             NaN   \n",
       "1    31-Mar-2013                             NaN   \n",
       "2    31-Mar-2013                             NaN   \n",
       "3    02-Apr-2013                     30-Mar-2013   \n",
       "4    02-Apr-2013                     30-Mar-2013   \n",
       "\n",
       "  date_of_china_CDC_confirmation date_of_notification_to_WHO  \\\n",
       "0                    30-Mar-2013                 31-Mar-2013   \n",
       "1                    30-Mar-2013                 31-Mar-2013   \n",
       "2                    30-Mar-2013                 31-Mar-2013   \n",
       "3                    02-Apr-2013                 03-Apr-2013   \n",
       "4                    02-Apr-2013                 03-Apr-2013   \n",
       "\n",
       "  date_of_hospitalization  outcome date_of_death date_of_discharge  \\\n",
       "0                     NaN    death   04-Mar-2013               NaN   \n",
       "1             03-Mar-2013    death   10-Mar-2013               NaN   \n",
       "2             19-Mar-2013    death   09-Apr-2013               NaN   \n",
       "3             27-Mar-2013      NaN           NaN               NaN   \n",
       "4             30-Mar-2013  cleared           NaN       15-May-2013   \n",
       "\n",
       "  possible_source_of_exposure  number_contacts_investigated  severity  \n",
       "0                         NaN                           NaN  critical  \n",
       "1                       pigs?                           NaN  critical  \n",
       "2                     poultry                           NaN  critical  \n",
       "3                     poultry                          49.0  critical  \n",
       "4                         NaN                          60.0  critical  "
      ]
     },
     "execution_count": 61,
     "metadata": {},
     "output_type": "execute_result"
    }
   ],
   "source": [
    "si.head()"
   ]
  },
  {
   "cell_type": "code",
   "execution_count": 71,
   "metadata": {
    "collapsed": true
   },
   "outputs": [
    {
     "ename": "AttributeError",
     "evalue": "'DataFrame' object has no attribute 'ID'",
     "output_type": "error",
     "traceback": [
      "\u001b[1;31m---------------------------------------------------------------------------\u001b[0m",
      "\u001b[1;31mAttributeError\u001b[0m                            Traceback (most recent call last)",
      "\u001b[1;32m<ipython-input-71-c7c325f63311>\u001b[0m in \u001b[0;36m<module>\u001b[1;34m()\u001b[0m\n\u001b[1;32m----> 1\u001b[1;33m \u001b[0msi\u001b[0m\u001b[1;33m.\u001b[0m\u001b[0mID\u001b[0m \u001b[1;33m=\u001b[0m \u001b[1;34m\"case_\"\u001b[0m \u001b[1;33m+\u001b[0m \u001b[0msi\u001b[0m\u001b[1;33m.\u001b[0m\u001b[0mID\u001b[0m\u001b[1;33m.\u001b[0m\u001b[0mastype\u001b[0m\u001b[1;33m(\u001b[0m\u001b[0mstr\u001b[0m\u001b[1;33m)\u001b[0m\u001b[1;33m\u001b[0m\u001b[0m\n\u001b[0m\u001b[0;32m      2\u001b[0m \u001b[0msi\u001b[0m\u001b[1;33m.\u001b[0m\u001b[0mrename\u001b[0m\u001b[1;33m(\u001b[0m\u001b[0mcolumns\u001b[0m \u001b[1;33m=\u001b[0m \u001b[1;33m{\u001b[0m\u001b[1;34m\"ID\"\u001b[0m\u001b[1;33m:\u001b[0m\u001b[1;34m\"case.ID\"\u001b[0m\u001b[1;33m}\u001b[0m\u001b[1;33m,\u001b[0m \u001b[0minplace\u001b[0m \u001b[1;33m=\u001b[0m \u001b[0mTrue\u001b[0m\u001b[1;33m)\u001b[0m\u001b[1;33m\u001b[0m\u001b[0m\n",
      "\u001b[1;32m/home/cire/anaconda2/lib/python2.7/site-packages/pandas/core/generic.pyc\u001b[0m in \u001b[0;36m__getattr__\u001b[1;34m(self, name)\u001b[0m\n\u001b[0;32m   2670\u001b[0m             \u001b[1;32mif\u001b[0m \u001b[0mname\u001b[0m \u001b[1;32min\u001b[0m \u001b[0mself\u001b[0m\u001b[1;33m.\u001b[0m\u001b[0m_info_axis\u001b[0m\u001b[1;33m:\u001b[0m\u001b[1;33m\u001b[0m\u001b[0m\n\u001b[0;32m   2671\u001b[0m                 \u001b[1;32mreturn\u001b[0m \u001b[0mself\u001b[0m\u001b[1;33m[\u001b[0m\u001b[0mname\u001b[0m\u001b[1;33m]\u001b[0m\u001b[1;33m\u001b[0m\u001b[0m\n\u001b[1;32m-> 2672\u001b[1;33m             \u001b[1;32mreturn\u001b[0m \u001b[0mobject\u001b[0m\u001b[1;33m.\u001b[0m\u001b[0m__getattribute__\u001b[0m\u001b[1;33m(\u001b[0m\u001b[0mself\u001b[0m\u001b[1;33m,\u001b[0m \u001b[0mname\u001b[0m\u001b[1;33m)\u001b[0m\u001b[1;33m\u001b[0m\u001b[0m\n\u001b[0m\u001b[0;32m   2673\u001b[0m \u001b[1;33m\u001b[0m\u001b[0m\n\u001b[0;32m   2674\u001b[0m     \u001b[1;32mdef\u001b[0m \u001b[0m__setattr__\u001b[0m\u001b[1;33m(\u001b[0m\u001b[0mself\u001b[0m\u001b[1;33m,\u001b[0m \u001b[0mname\u001b[0m\u001b[1;33m,\u001b[0m \u001b[0mvalue\u001b[0m\u001b[1;33m)\u001b[0m\u001b[1;33m:\u001b[0m\u001b[1;33m\u001b[0m\u001b[0m\n",
      "\u001b[1;31mAttributeError\u001b[0m: 'DataFrame' object has no attribute 'ID'"
     ]
    }
   ],
   "source": [
    "si.ID = \"case_\" + si.ID.astype(str)\n",
    "si.rename(columns = {\"ID\":\"case.ID\"}, inplace = True)"
   ]
  },
  {
   "cell_type": "code",
   "execution_count": null,
   "metadata": {
    "collapsed": true
   },
   "outputs": [],
   "source": []
  },
  {
   "cell_type": "code",
   "execution_count": 89,
   "metadata": {
    "collapsed": false
   },
   "outputs": [
    {
     "data": {
      "text/plain": [
       "0        NaN\n",
       "1        NaN\n",
       "2        NaN\n",
       "3       49.0\n",
       "4       60.0\n",
       "5       43.0\n",
       "6       15.0\n",
       "7      125.0\n",
       "8       58.0\n",
       "9        8.0\n",
       "10      55.0\n",
       "11       NaN\n",
       "12       NaN\n",
       "13       NaN\n",
       "14      12.0\n",
       "15      53.0\n",
       "16       NaN\n",
       "17       NaN\n",
       "18       NaN\n",
       "19       NaN\n",
       "20       NaN\n",
       "21      34.0\n",
       "22      18.0\n",
       "23       NaN\n",
       "24       NaN\n",
       "25       NaN\n",
       "26       NaN\n",
       "27       NaN\n",
       "28       NaN\n",
       "29       NaN\n",
       "       ...  \n",
       "106     35.0\n",
       "107      NaN\n",
       "108      NaN\n",
       "109    139.0\n",
       "110      7.0\n",
       "111     14.0\n",
       "112      NaN\n",
       "113      NaN\n",
       "114      NaN\n",
       "115     37.0\n",
       "116     10.0\n",
       "117      NaN\n",
       "118      NaN\n",
       "119      NaN\n",
       "120     41.0\n",
       "121      NaN\n",
       "122     51.0\n",
       "123      NaN\n",
       "124      NaN\n",
       "125     33.0\n",
       "126      NaN\n",
       "127      NaN\n",
       "128     50.0\n",
       "129      9.0\n",
       "130      NaN\n",
       "131     11.0\n",
       "132     50.0\n",
       "133      NaN\n",
       "134      9.0\n",
       "135     36.0\n",
       "Name: number_contacts_investigated, dtype: float64"
      ]
     },
     "execution_count": 89,
     "metadata": {},
     "output_type": "execute_result"
    }
   ],
   "source": [
    "si[\"number_contacts_investigated\"].astype(float)"
   ]
  },
  {
   "cell_type": "code",
   "execution_count": 77,
   "metadata": {
    "collapsed": false
   },
   "outputs": [
    {
     "data": {
      "text/plain": [
       "0     2013-02-19\n",
       "1     2013-02-27\n",
       "2     2013-03-09\n",
       "3     2013-03-19\n",
       "4     2013-03-19\n",
       "5     2013-03-21\n",
       "6     2013-03-20\n",
       "7     2013-03-07\n",
       "8     2013-03-25\n",
       "9     2013-03-28\n",
       "10    2013-03-29\n",
       "11    2013-03-27\n",
       "12    2013-03-22\n",
       "13    2013-03-31\n",
       "14    2013-03-20\n",
       "15    2013-03-21\n",
       "16    2013-03-28\n",
       "17    2013-03-29\n",
       "18    2013-03-25\n",
       "19    2013-03-28\n",
       "20    2013-03-29\n",
       "21    2013-03-28\n",
       "22    2013-03-30\n",
       "23    2013-04-01\n",
       "24    2013-04-01\n",
       "25    2013-04-03\n",
       "26    2013-03-13\n",
       "27    2013-03-29\n",
       "28    2013-04-01\n",
       "29    2013-04-04\n",
       "         ...    \n",
       "106   2013-04-14\n",
       "107   2013-04-15\n",
       "108   2013-04-15\n",
       "109   2013-04-12\n",
       "110   2013-04-17\n",
       "111   2013-04-17\n",
       "112   2013-04-15\n",
       "113   2013-04-18\n",
       "114   2013-04-17\n",
       "115   2013-04-18\n",
       "116   2013-04-19\n",
       "117   2013-04-17\n",
       "118   2013-04-19\n",
       "119   2013-03-08\n",
       "120   2013-04-14\n",
       "121   2013-04-18\n",
       "122   2013-04-15\n",
       "123   2013-04-21\n",
       "124   2013-04-23\n",
       "125   2013-04-17\n",
       "126   2013-04-27\n",
       "127   2013-04-21\n",
       "128   2013-04-23\n",
       "129   2013-04-29\n",
       "130   2013-04-26\n",
       "131   2013-05-03\n",
       "132   2013-05-21\n",
       "133   2013-04-25\n",
       "134   2013-07-10\n",
       "135   2013-07-27\n",
       "Name: date_of_onset, dtype: datetime64[ns]"
      ]
     },
     "execution_count": 77,
     "metadata": {},
     "output_type": "execute_result"
    }
   ],
   "source": [
    "pd.to_datetime(si[\"date_of_onset\"])"
   ]
  },
  {
   "cell_type": "code",
   "execution_count": 78,
   "metadata": {
    "collapsed": false
   },
   "outputs": [
    {
     "ename": "KeyError",
     "evalue": "\"['87' '27' '35' '45' '48' '32' '83' '38' '67' '48' '64' '52' '67' '4' '61'\\n '79' '74' '66' '59' '55' '67' '85' '25' '64' '62' '77' '51' '79' '76' '81'\\n '70' '74' '65' '74' '83' '68' '31' '56' '66' '74' '54' '53' '86' '7' '56'\\n '77' '72' '65' '38' '34' '65' '64' '62' '75' '79' '73' '54' '78' '50' '26'\\n '60' '68' '60' '56' '21' '72' '56' '57' '62' '58' '72' '47' '69' '?' '?'\\n '55' '2' '89' '37' '74' '86' '41' '38' '26' '80' '54' '69' '4' '54' '43'\\n '48' '66' '56' '35' '37' '43' '75' '76' '68' '58' '79' '81' '68' '54' '32'\\n '36' '91' '84' '62' '53' '56' '69' '60' '50' '38' '65' '76' '49' '36' '60'\\n '64' '38' '54' '80' '31' '80' '4' '58' '69' '69' '9' '79' '6' '15' '61'\\n '51'] not in index\"",
     "output_type": "error",
     "traceback": [
      "\u001b[1;31m---------------------------------------------------------------------------\u001b[0m",
      "\u001b[1;31mKeyError\u001b[0m                                  Traceback (most recent call last)",
      "\u001b[1;32m<ipython-input-78-b64ab0c2370f>\u001b[0m in \u001b[0;36m<module>\u001b[1;34m()\u001b[0m\n\u001b[1;32m----> 1\u001b[1;33m \u001b[0msi\u001b[0m\u001b[1;33m.\u001b[0m\u001b[0mplot\u001b[0m\u001b[1;33m(\u001b[0m\u001b[0mpd\u001b[0m\u001b[1;33m.\u001b[0m\u001b[0mto_datetime\u001b[0m\u001b[1;33m(\u001b[0m\u001b[0msi\u001b[0m\u001b[1;33m[\u001b[0m\u001b[1;34m\"date_of_onset\"\u001b[0m\u001b[1;33m]\u001b[0m\u001b[1;33m)\u001b[0m\u001b[1;33m,\u001b[0m \u001b[0msi\u001b[0m\u001b[1;33m[\u001b[0m\u001b[1;34m\"age\"\u001b[0m\u001b[1;33m]\u001b[0m\u001b[1;33m)\u001b[0m\u001b[1;33m\u001b[0m\u001b[0m\n\u001b[0m",
      "\u001b[1;32m/home/cire/anaconda2/lib/python2.7/site-packages/pandas/tools/plotting.pyc\u001b[0m in \u001b[0;36m__call__\u001b[1;34m(self, x, y, kind, ax, subplots, sharex, sharey, layout, figsize, use_index, title, grid, legend, style, logx, logy, loglog, xticks, yticks, xlim, ylim, rot, fontsize, colormap, table, yerr, xerr, secondary_y, sort_columns, **kwds)\u001b[0m\n\u001b[0;32m   3738\u001b[0m                           \u001b[0mfontsize\u001b[0m\u001b[1;33m=\u001b[0m\u001b[0mfontsize\u001b[0m\u001b[1;33m,\u001b[0m \u001b[0mcolormap\u001b[0m\u001b[1;33m=\u001b[0m\u001b[0mcolormap\u001b[0m\u001b[1;33m,\u001b[0m \u001b[0mtable\u001b[0m\u001b[1;33m=\u001b[0m\u001b[0mtable\u001b[0m\u001b[1;33m,\u001b[0m\u001b[1;33m\u001b[0m\u001b[0m\n\u001b[0;32m   3739\u001b[0m                           \u001b[0myerr\u001b[0m\u001b[1;33m=\u001b[0m\u001b[0myerr\u001b[0m\u001b[1;33m,\u001b[0m \u001b[0mxerr\u001b[0m\u001b[1;33m=\u001b[0m\u001b[0mxerr\u001b[0m\u001b[1;33m,\u001b[0m \u001b[0msecondary_y\u001b[0m\u001b[1;33m=\u001b[0m\u001b[0msecondary_y\u001b[0m\u001b[1;33m,\u001b[0m\u001b[1;33m\u001b[0m\u001b[0m\n\u001b[1;32m-> 3740\u001b[1;33m                           sort_columns=sort_columns, **kwds)\n\u001b[0m\u001b[0;32m   3741\u001b[0m     \u001b[0m__call__\u001b[0m\u001b[1;33m.\u001b[0m\u001b[0m__doc__\u001b[0m \u001b[1;33m=\u001b[0m \u001b[0mplot_frame\u001b[0m\u001b[1;33m.\u001b[0m\u001b[0m__doc__\u001b[0m\u001b[1;33m\u001b[0m\u001b[0m\n\u001b[0;32m   3742\u001b[0m \u001b[1;33m\u001b[0m\u001b[0m\n",
      "\u001b[1;32m/home/cire/anaconda2/lib/python2.7/site-packages/pandas/tools/plotting.pyc\u001b[0m in \u001b[0;36mplot_frame\u001b[1;34m(data, x, y, kind, ax, subplots, sharex, sharey, layout, figsize, use_index, title, grid, legend, style, logx, logy, loglog, xticks, yticks, xlim, ylim, rot, fontsize, colormap, table, yerr, xerr, secondary_y, sort_columns, **kwds)\u001b[0m\n\u001b[0;32m   2612\u001b[0m                  \u001b[0myerr\u001b[0m\u001b[1;33m=\u001b[0m\u001b[0myerr\u001b[0m\u001b[1;33m,\u001b[0m \u001b[0mxerr\u001b[0m\u001b[1;33m=\u001b[0m\u001b[0mxerr\u001b[0m\u001b[1;33m,\u001b[0m\u001b[1;33m\u001b[0m\u001b[0m\n\u001b[0;32m   2613\u001b[0m                  \u001b[0msecondary_y\u001b[0m\u001b[1;33m=\u001b[0m\u001b[0msecondary_y\u001b[0m\u001b[1;33m,\u001b[0m \u001b[0msort_columns\u001b[0m\u001b[1;33m=\u001b[0m\u001b[0msort_columns\u001b[0m\u001b[1;33m,\u001b[0m\u001b[1;33m\u001b[0m\u001b[0m\n\u001b[1;32m-> 2614\u001b[1;33m                  **kwds)\n\u001b[0m\u001b[0;32m   2615\u001b[0m \u001b[1;33m\u001b[0m\u001b[0m\n\u001b[0;32m   2616\u001b[0m \u001b[1;33m\u001b[0m\u001b[0m\n",
      "\u001b[1;32m/home/cire/anaconda2/lib/python2.7/site-packages/pandas/tools/plotting.pyc\u001b[0m in \u001b[0;36m_plot\u001b[1;34m(data, x, y, subplots, ax, kind, **kwds)\u001b[0m\n\u001b[0;32m   2425\u001b[0m                     \u001b[0my\u001b[0m \u001b[1;33m=\u001b[0m \u001b[0mdata\u001b[0m\u001b[1;33m.\u001b[0m\u001b[0mcolumns\u001b[0m\u001b[1;33m[\u001b[0m\u001b[0my\u001b[0m\u001b[1;33m]\u001b[0m\u001b[1;33m\u001b[0m\u001b[0m\n\u001b[0;32m   2426\u001b[0m                 \u001b[0mlabel\u001b[0m \u001b[1;33m=\u001b[0m \u001b[0mkwds\u001b[0m\u001b[1;33m[\u001b[0m\u001b[1;34m'label'\u001b[0m\u001b[1;33m]\u001b[0m \u001b[1;32mif\u001b[0m \u001b[1;34m'label'\u001b[0m \u001b[1;32min\u001b[0m \u001b[0mkwds\u001b[0m \u001b[1;32melse\u001b[0m \u001b[0my\u001b[0m\u001b[1;33m\u001b[0m\u001b[0m\n\u001b[1;32m-> 2427\u001b[1;33m                 \u001b[0mseries\u001b[0m \u001b[1;33m=\u001b[0m \u001b[0mdata\u001b[0m\u001b[1;33m[\u001b[0m\u001b[0my\u001b[0m\u001b[1;33m]\u001b[0m\u001b[1;33m.\u001b[0m\u001b[0mcopy\u001b[0m\u001b[1;33m(\u001b[0m\u001b[1;33m)\u001b[0m  \u001b[1;31m# Don't modify\u001b[0m\u001b[1;33m\u001b[0m\u001b[0m\n\u001b[0m\u001b[0;32m   2428\u001b[0m                 \u001b[0mseries\u001b[0m\u001b[1;33m.\u001b[0m\u001b[0mname\u001b[0m \u001b[1;33m=\u001b[0m \u001b[0mlabel\u001b[0m\u001b[1;33m\u001b[0m\u001b[0m\n\u001b[0;32m   2429\u001b[0m \u001b[1;33m\u001b[0m\u001b[0m\n",
      "\u001b[1;32m/home/cire/anaconda2/lib/python2.7/site-packages/pandas/core/frame.pyc\u001b[0m in \u001b[0;36m__getitem__\u001b[1;34m(self, key)\u001b[0m\n\u001b[0;32m   1989\u001b[0m         \u001b[1;32mif\u001b[0m \u001b[0misinstance\u001b[0m\u001b[1;33m(\u001b[0m\u001b[0mkey\u001b[0m\u001b[1;33m,\u001b[0m \u001b[1;33m(\u001b[0m\u001b[0mSeries\u001b[0m\u001b[1;33m,\u001b[0m \u001b[0mnp\u001b[0m\u001b[1;33m.\u001b[0m\u001b[0mndarray\u001b[0m\u001b[1;33m,\u001b[0m \u001b[0mIndex\u001b[0m\u001b[1;33m,\u001b[0m \u001b[0mlist\u001b[0m\u001b[1;33m)\u001b[0m\u001b[1;33m)\u001b[0m\u001b[1;33m:\u001b[0m\u001b[1;33m\u001b[0m\u001b[0m\n\u001b[0;32m   1990\u001b[0m             \u001b[1;31m# either boolean or fancy integer index\u001b[0m\u001b[1;33m\u001b[0m\u001b[1;33m\u001b[0m\u001b[0m\n\u001b[1;32m-> 1991\u001b[1;33m             \u001b[1;32mreturn\u001b[0m \u001b[0mself\u001b[0m\u001b[1;33m.\u001b[0m\u001b[0m_getitem_array\u001b[0m\u001b[1;33m(\u001b[0m\u001b[0mkey\u001b[0m\u001b[1;33m)\u001b[0m\u001b[1;33m\u001b[0m\u001b[0m\n\u001b[0m\u001b[0;32m   1992\u001b[0m         \u001b[1;32melif\u001b[0m \u001b[0misinstance\u001b[0m\u001b[1;33m(\u001b[0m\u001b[0mkey\u001b[0m\u001b[1;33m,\u001b[0m \u001b[0mDataFrame\u001b[0m\u001b[1;33m)\u001b[0m\u001b[1;33m:\u001b[0m\u001b[1;33m\u001b[0m\u001b[0m\n\u001b[0;32m   1993\u001b[0m             \u001b[1;32mreturn\u001b[0m \u001b[0mself\u001b[0m\u001b[1;33m.\u001b[0m\u001b[0m_getitem_frame\u001b[0m\u001b[1;33m(\u001b[0m\u001b[0mkey\u001b[0m\u001b[1;33m)\u001b[0m\u001b[1;33m\u001b[0m\u001b[0m\n",
      "\u001b[1;32m/home/cire/anaconda2/lib/python2.7/site-packages/pandas/core/frame.pyc\u001b[0m in \u001b[0;36m_getitem_array\u001b[1;34m(self, key)\u001b[0m\n\u001b[0;32m   2033\u001b[0m             \u001b[1;32mreturn\u001b[0m \u001b[0mself\u001b[0m\u001b[1;33m.\u001b[0m\u001b[0mtake\u001b[0m\u001b[1;33m(\u001b[0m\u001b[0mindexer\u001b[0m\u001b[1;33m,\u001b[0m \u001b[0maxis\u001b[0m\u001b[1;33m=\u001b[0m\u001b[1;36m0\u001b[0m\u001b[1;33m,\u001b[0m \u001b[0mconvert\u001b[0m\u001b[1;33m=\u001b[0m\u001b[0mFalse\u001b[0m\u001b[1;33m)\u001b[0m\u001b[1;33m\u001b[0m\u001b[0m\n\u001b[0;32m   2034\u001b[0m         \u001b[1;32melse\u001b[0m\u001b[1;33m:\u001b[0m\u001b[1;33m\u001b[0m\u001b[0m\n\u001b[1;32m-> 2035\u001b[1;33m             \u001b[0mindexer\u001b[0m \u001b[1;33m=\u001b[0m \u001b[0mself\u001b[0m\u001b[1;33m.\u001b[0m\u001b[0mix\u001b[0m\u001b[1;33m.\u001b[0m\u001b[0m_convert_to_indexer\u001b[0m\u001b[1;33m(\u001b[0m\u001b[0mkey\u001b[0m\u001b[1;33m,\u001b[0m \u001b[0maxis\u001b[0m\u001b[1;33m=\u001b[0m\u001b[1;36m1\u001b[0m\u001b[1;33m)\u001b[0m\u001b[1;33m\u001b[0m\u001b[0m\n\u001b[0m\u001b[0;32m   2036\u001b[0m             \u001b[1;32mreturn\u001b[0m \u001b[0mself\u001b[0m\u001b[1;33m.\u001b[0m\u001b[0mtake\u001b[0m\u001b[1;33m(\u001b[0m\u001b[0mindexer\u001b[0m\u001b[1;33m,\u001b[0m \u001b[0maxis\u001b[0m\u001b[1;33m=\u001b[0m\u001b[1;36m1\u001b[0m\u001b[1;33m,\u001b[0m \u001b[0mconvert\u001b[0m\u001b[1;33m=\u001b[0m\u001b[0mTrue\u001b[0m\u001b[1;33m)\u001b[0m\u001b[1;33m\u001b[0m\u001b[0m\n\u001b[0;32m   2037\u001b[0m \u001b[1;33m\u001b[0m\u001b[0m\n",
      "\u001b[1;32m/home/cire/anaconda2/lib/python2.7/site-packages/pandas/core/indexing.pyc\u001b[0m in \u001b[0;36m_convert_to_indexer\u001b[1;34m(self, obj, axis, is_setter)\u001b[0m\n\u001b[0;32m   1212\u001b[0m                 \u001b[0mmask\u001b[0m \u001b[1;33m=\u001b[0m \u001b[0mcheck\u001b[0m \u001b[1;33m==\u001b[0m \u001b[1;33m-\u001b[0m\u001b[1;36m1\u001b[0m\u001b[1;33m\u001b[0m\u001b[0m\n\u001b[0;32m   1213\u001b[0m                 \u001b[1;32mif\u001b[0m \u001b[0mmask\u001b[0m\u001b[1;33m.\u001b[0m\u001b[0many\u001b[0m\u001b[1;33m(\u001b[0m\u001b[1;33m)\u001b[0m\u001b[1;33m:\u001b[0m\u001b[1;33m\u001b[0m\u001b[0m\n\u001b[1;32m-> 1214\u001b[1;33m                     \u001b[1;32mraise\u001b[0m \u001b[0mKeyError\u001b[0m\u001b[1;33m(\u001b[0m\u001b[1;34m'%s not in index'\u001b[0m \u001b[1;33m%\u001b[0m \u001b[0mobjarr\u001b[0m\u001b[1;33m[\u001b[0m\u001b[0mmask\u001b[0m\u001b[1;33m]\u001b[0m\u001b[1;33m)\u001b[0m\u001b[1;33m\u001b[0m\u001b[0m\n\u001b[0m\u001b[0;32m   1215\u001b[0m \u001b[1;33m\u001b[0m\u001b[0m\n\u001b[0;32m   1216\u001b[0m                 \u001b[1;32mreturn\u001b[0m \u001b[0m_values_from_object\u001b[0m\u001b[1;33m(\u001b[0m\u001b[0mindexer\u001b[0m\u001b[1;33m)\u001b[0m\u001b[1;33m\u001b[0m\u001b[0m\n",
      "\u001b[1;31mKeyError\u001b[0m: \"['87' '27' '35' '45' '48' '32' '83' '38' '67' '48' '64' '52' '67' '4' '61'\\n '79' '74' '66' '59' '55' '67' '85' '25' '64' '62' '77' '51' '79' '76' '81'\\n '70' '74' '65' '74' '83' '68' '31' '56' '66' '74' '54' '53' '86' '7' '56'\\n '77' '72' '65' '38' '34' '65' '64' '62' '75' '79' '73' '54' '78' '50' '26'\\n '60' '68' '60' '56' '21' '72' '56' '57' '62' '58' '72' '47' '69' '?' '?'\\n '55' '2' '89' '37' '74' '86' '41' '38' '26' '80' '54' '69' '4' '54' '43'\\n '48' '66' '56' '35' '37' '43' '75' '76' '68' '58' '79' '81' '68' '54' '32'\\n '36' '91' '84' '62' '53' '56' '69' '60' '50' '38' '65' '76' '49' '36' '60'\\n '64' '38' '54' '80' '31' '80' '4' '58' '69' '69' '9' '79' '6' '15' '61'\\n '51'] not in index\""
     ]
    }
   ],
   "source": [
    "si.plot(pd.to_datetime(si[\"date_of_onset\"]), si[\"age\"])"
   ]
  },
  {
   "cell_type": "code",
   "execution_count": null,
   "metadata": {
    "collapsed": true
   },
   "outputs": [],
   "source": []
  }
 ],
 "metadata": {
  "kernelspec": {
   "display_name": "Python [Root]",
   "language": "python",
   "name": "Python [Root]"
  },
  "language_info": {
   "codemirror_mode": {
    "name": "ipython",
    "version": 2
   },
   "file_extension": ".py",
   "mimetype": "text/x-python",
   "name": "python",
   "nbconvert_exporter": "python",
   "pygments_lexer": "ipython2",
   "version": "2.7.12"
  }
 },
 "nbformat": 4,
 "nbformat_minor": 0
}
